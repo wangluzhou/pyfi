{
 "cells": [
  {
   "cell_type": "code",
   "execution_count": 2,
   "metadata": {
    "collapsed": false
   },
   "outputs": [
    {
     "data": {
      "text/plain": [
       ".ErrorCode=0\n",
       ".Data=[Already conntected!]"
      ]
     },
     "execution_count": 2,
     "metadata": {},
     "output_type": "execute_result"
    }
   ],
   "source": [
    "from WindPy import w\n",
    "w.start()"
   ]
  },
  {
   "cell_type": "code",
   "execution_count": 5,
   "metadata": {
    "collapsed": false
   },
   "outputs": [
    {
     "data": {
      "text/plain": [
       ".ErrorCode=0\n",
       ".Codes=[T.CFE]\n",
       ".Fields=[close]\n",
       ".Times=[20150330 09:20:00,20150330 09:30:00,20150330 09:40:00,20150330 09:50:00,20150330 10:00:00,20150330 10:10:00,20150330 10:20:00,20150330 10:30:00,20150330 10:40:00,20150330 10:50:00,...]\n",
       ".Data=[[96.08,96.025,96.34,96.38,96.26,96.19,96.14,96.245,96.215,96.255,...]]"
      ]
     },
     "execution_count": 5,
     "metadata": {},
     "output_type": "execute_result"
    }
   ],
   "source": [
    "w.wsi(\"T.CFE\", \"close\", \"2015-3-29 09:00:00\", \"2015-9-29 17:40:17\", \"BarSize=10\")"
   ]
  }
 ],
 "metadata": {
  "kernelspec": {
   "display_name": "Python 2",
   "language": "python",
   "name": "python2"
  },
  "language_info": {
   "codemirror_mode": {
    "name": "ipython",
    "version": 2
   },
   "file_extension": ".py",
   "mimetype": "text/x-python",
   "name": "python",
   "nbconvert_exporter": "python",
   "pygments_lexer": "ipython2",
   "version": "2.7.13"
  }
 },
 "nbformat": 4,
 "nbformat_minor": 0
}
